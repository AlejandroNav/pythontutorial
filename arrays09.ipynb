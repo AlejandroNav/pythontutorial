{
 "cells": [
  {
   "cell_type": "markdown",
   "id": "8fc408a8-f7ad-4783-b509-89abb6dd264e",
   "metadata": {},
   "source": [
    "# Operaciones lógicas con arreglos"
   ]
  },
  {
   "cell_type": "code",
   "execution_count": 1,
   "id": "510f30bb-41d9-41b1-98d6-be5479f05c24",
   "metadata": {},
   "outputs": [],
   "source": [
    "import numpy as np"
   ]
  },
  {
   "cell_type": "code",
   "execution_count": 2,
   "id": "8c096f50-013b-4ef1-b5b7-965dce9427d3",
   "metadata": {},
   "outputs": [
    {
     "data": {
      "text/plain": [
       "array([ 3, 12, 15, 16,  3])"
      ]
     },
     "execution_count": 2,
     "metadata": {},
     "output_type": "execute_result"
    }
   ],
   "source": [
    "arreglo1 = np.array([3, 12, 15, 16, 3])\n",
    "arreglo1"
   ]
  },
  {
   "cell_type": "code",
   "execution_count": 8,
   "id": "0438fc9e",
   "metadata": {},
   "outputs": [
    {
     "data": {
      "text/plain": [
       "numpy.int64"
      ]
     },
     "execution_count": 8,
     "metadata": {},
     "output_type": "execute_result"
    }
   ],
   "source": [
    "type(arreglo1[0])"
   ]
  },
  {
   "cell_type": "code",
   "execution_count": null,
   "id": "c98e0727",
   "metadata": {},
   "outputs": [
    {
     "ename": "",
     "evalue": "",
     "output_type": "error",
     "traceback": [
      "\u001b[1;31mRunning cells with 'Python 3.13.3' requires the ipykernel package.\n",
      "\u001b[1;31m<a href='command:jupyter.createPythonEnvAndSelectController'>Create a Python Environment</a> with the required packages."
     ]
    }
   ],
   "source": [
    "np.binary_repr(arreglo1[1], width=64)"
   ]
  },
  {
   "cell_type": "code",
   "execution_count": 3,
   "id": "adb7a423-af2f-4b3a-9fef-fffa0accf65e",
   "metadata": {},
   "outputs": [
    {
     "data": {
      "text/plain": [
       "array([12,  3,  8,  7,  2])"
      ]
     },
     "execution_count": 3,
     "metadata": {},
     "output_type": "execute_result"
    }
   ],
   "source": [
    "arreglo2 = np.array([12, 3, 8, 7, 2])\n",
    "arreglo2"
   ]
  },
  {
   "cell_type": "code",
   "execution_count": 5,
   "id": "411379a7-8692-4c6e-adbc-30722b88e5a9",
   "metadata": {},
   "outputs": [
    {
     "data": {
      "text/plain": [
       "array([ -4, -13, -16, -17,  -4])"
      ]
     },
     "execution_count": 5,
     "metadata": {},
     "output_type": "execute_result"
    }
   ],
   "source": [
    "arreglo_not = np.bitwise_not(arreglo1)\n",
    "arreglo_not"
   ]
  },
  {
   "cell_type": "code",
   "execution_count": 14,
   "id": "6d75c305",
   "metadata": {},
   "outputs": [
    {
     "data": {
      "text/plain": [
       "numpy.int64"
      ]
     },
     "execution_count": 14,
     "metadata": {},
     "output_type": "execute_result"
    }
   ],
   "source": [
    "type(arreglo_not[0])"
   ]
  },
  {
   "cell_type": "code",
   "execution_count": 12,
   "id": "83cce0b7",
   "metadata": {},
   "outputs": [
    {
     "data": {
      "text/plain": [
       "'1111111111111111111111111111111111111111111111111111111111111100'"
      ]
     },
     "execution_count": 12,
     "metadata": {},
     "output_type": "execute_result"
    }
   ],
   "source": [
    "np.binary_repr(arreglo_not[0], width=64)"
   ]
  },
  {
   "cell_type": "code",
   "execution_count": 7,
   "id": "6cea6063-661c-4afd-b46b-ad3fc8dc4c28",
   "metadata": {},
   "outputs": [
    {
     "data": {
      "text/plain": [
       "array([15, 15,  7, 23,  1])"
      ]
     },
     "execution_count": 7,
     "metadata": {},
     "output_type": "execute_result"
    }
   ],
   "source": [
    "arreglo_xor = np.bitwise_xor(arreglo1, arreglo2)\n",
    "arreglo_xor"
   ]
  },
  {
   "cell_type": "code",
   "execution_count": 6,
   "id": "82464997-793a-4b14-af2e-aee7025e32c2",
   "metadata": {},
   "outputs": [
    {
     "data": {
      "text/plain": [
       "array([15, 15, 15, 23,  3])"
      ]
     },
     "execution_count": 6,
     "metadata": {},
     "output_type": "execute_result"
    }
   ],
   "source": [
    "arreglo_or = np.bitwise_or(arreglo1, arreglo2)\n",
    "arreglo_or"
   ]
  },
  {
   "cell_type": "code",
   "execution_count": 5,
   "id": "87db6480-8507-48a9-ac6e-5b8d649a89d2",
   "metadata": {},
   "outputs": [
    {
     "data": {
      "text/plain": [
       "array([0, 0, 8, 0, 2])"
      ]
     },
     "execution_count": 5,
     "metadata": {},
     "output_type": "execute_result"
    }
   ],
   "source": [
    "arreglo_and = np.bitwise_and(arreglo1, arreglo2)\n",
    "arreglo_and"
   ]
  },
  {
   "cell_type": "code",
   "execution_count": null,
   "id": "8bf86eb1-d485-4c1e-aa04-b4e51bdaf066",
   "metadata": {},
   "outputs": [],
   "source": [
    "np.bitwise"
   ]
  }
 ],
 "metadata": {
  "kernelspec": {
   "display_name": "Python 3",
   "language": "python",
   "name": "python3"
  },
  "language_info": {
   "codemirror_mode": {
    "name": "ipython",
    "version": 3
   },
   "file_extension": ".py",
   "mimetype": "text/x-python",
   "name": "python",
   "nbconvert_exporter": "python",
   "pygments_lexer": "ipython3",
   "version": "3.13.3"
  }
 },
 "nbformat": 4,
 "nbformat_minor": 5
}
