{
 "cells": [
  {
   "cell_type": "code",
   "execution_count": 1,
   "id": "61206372",
   "metadata": {},
   "outputs": [
    {
     "data": {
      "text/plain": [
       "array([ 10,  20,  30,  40,  50,  60,  70,  80,  90, 100])"
      ]
     },
     "execution_count": 1,
     "metadata": {},
     "output_type": "execute_result"
    }
   ],
   "source": [
    "\n",
    "import numpy as np\n",
    "# Ejercicio 1 .array\n",
    "# Crea un arreglo llamado \"arreglo1\" con los números: 10, 20, 30, 40\n",
    "arreglo1D = np.array([10, 20, 30, 40,50,60,70,80,90,100])\n",
    "arreglo1D"
   ]
  },
  {
   "cell_type": "code",
   "execution_count": 10,
   "id": "e57f449b",
   "metadata": {},
   "outputs": [
    {
     "name": "stdout",
     "output_type": "stream",
     "text": [
      "[[10 20 30 40]\n",
      " [10 20 30 40]] \n",
      "  y tiene  2  filas y  4  columnas\n"
     ]
    }
   ],
   "source": [
    "# arreglod e dos dimensiones    \n",
    "arreglo2D = np.array([[10, 20, 30, 40],[10, 20, 30, 40]])\n",
    "print(arreglo2D,\"\\n\",\" y tiene \",arreglo2D.shape[0],\" filas y \",arreglo2D.shape[1],\" columnas\")"
   ]
  },
  {
   "cell_type": "code",
   "execution_count": 3,
   "id": "49c01c48",
   "metadata": {},
   "outputs": [
    {
     "data": {
      "text/plain": [
       "dtype('float64')"
      ]
     },
     "execution_count": 3,
     "metadata": {},
     "output_type": "execute_result"
    }
   ],
   "source": [
    "# crea una rreglo de una dimension deciamles\n",
    "arregloDecimal = np.array([1.1, 3.7, 3.3, 4.4])\n",
    "# Muestra su tipo de dato con el atributo dtype\n",
    "arregloDecimal.dtype"
   ]
  },
  {
   "cell_type": "code",
   "execution_count": 4,
   "id": "3396b808",
   "metadata": {},
   "outputs": [
    {
     "name": "stdout",
     "output_type": "stream",
     "text": [
      "Array con arange: [ 0  1  2  3  4  5  6  7  8  9 10 11 12 13 14 15 16 17 18 19 20 21 22 23]\n"
     ]
    }
   ],
   "source": [
    "arrange1 = np.arange(24)\n",
    "# arrange sirve para crear un arreglo de una dimension con un rango de valores\n",
    "# y un paso determinado\n",
    "# en este caso el rango es de 0 a 24 y el paso es de 1\n",
    "print(\"Array con arange:\", arrange1)"
   ]
  },
  {
   "cell_type": "code",
   "execution_count": 5,
   "id": "7206da5a",
   "metadata": {},
   "outputs": [
    {
     "name": "stdout",
     "output_type": "stream",
     "text": [
      "Array con arange: [ 5  6  7  8  9 10 11 12 13 14 15 16 17 18 19 20 21 22 23]\n"
     ]
    }
   ],
   "source": [
    "arrange2 = np.arange(5, 24)\n",
    "print(\"Array con arange:\", arrange2)"
   ]
  },
  {
   "cell_type": "code",
   "execution_count": null,
   "id": "4fecc767",
   "metadata": {},
   "outputs": [
    {
     "name": "stdout",
     "output_type": "stream",
     "text": [
      "Array con arange: [ 5 10 15 20 25 30] y tine una forma de: (6,)\n"
     ]
    }
   ],
   "source": [
    "arrange3 =  np.arange(5, 35, 5)\n",
    "print(\"Array con arange:\", arrange3, \"y tiene una forma de:\", arrange3.shape)"
   ]
  },
  {
   "cell_type": "code",
   "execution_count": 9,
   "id": "d2737f0d",
   "metadata": {},
   "outputs": [
    {
     "name": "stdout",
     "output_type": "stream",
     "text": [
      " [[ 5]\n",
      " [10]\n",
      " [15]\n",
      " [20]\n",
      " [25]\n",
      " [30]] y tiene una forma de: (6,)\n"
     ]
    }
   ],
   "source": [
    "arrange3Resahpe = arrange3.reshape(6,1)\n",
    "#reshape necesita que el numero de elementos del arreglo original sea igual\n",
    "#  al numero de elementos del nuevo arreglo\n",
    "print(\"\", arrange3Resahpe, \"y tiene una forma de:\", arrange3.shape)"
   ]
  },
  {
   "cell_type": "code",
   "execution_count": 13,
   "id": "1449313b",
   "metadata": {},
   "outputs": [
    {
     "name": "stdout",
     "output_type": "stream",
     "text": [
      "Array 2D con arange: \n",
      " [[ 5 10]\n",
      " [15 20]\n",
      " [25 30]] y tiene una forma de: (3, 2)\n"
     ]
    }
   ],
   "source": [
    "Arrange2D = np.arange(5, 35, 5).reshape(3,2)\n",
    "print(\"Array 2D con arange: \\n\", Arrange2D, \"y tiene una forma de:\", Arrange2D.shape)"
   ]
  }
 ],
 "metadata": {
  "kernelspec": {
   "display_name": "Python 3",
   "language": "python",
   "name": "python3"
  },
  "language_info": {
   "codemirror_mode": {
    "name": "ipython",
    "version": 3
   },
   "file_extension": ".py",
   "mimetype": "text/x-python",
   "name": "python",
   "nbconvert_exporter": "python",
   "pygments_lexer": "ipython3",
   "version": "3.13.3"
  }
 },
 "nbformat": 4,
 "nbformat_minor": 5
}
