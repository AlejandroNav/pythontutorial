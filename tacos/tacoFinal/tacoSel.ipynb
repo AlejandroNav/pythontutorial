{
 "cells": [
  {
   "cell_type": "markdown",
   "id": "418553f5",
   "metadata": {},
   "source": [
    "# Exploración y Análisis de Taquerías en la Ciudad de México utilizando Python y Ciencia de Datos\n",
    "\n",
    "##  Introducción:\n",
    "La Ciudad de México es mundialmente reconocida por su vasta y diversa oferta gastronómica, siendo las taquerías uno de los pilares fundamentales de la cultura culinaria urbana. Con miles de establecimientos repartidos por toda la capital, identificar patrones de ubicación, popularidad y accesibilidad puede aportar valor tanto para consumidores como para futuros emprendedores gastronómicos.\n",
    "\n",
    "Este proyecto busca aplicar herramientas de programación en Python para explorar, visualizar y analizar datos reales de taquerías en CDMX, abarcando desde estadísticas descriptivas básicas hasta análisis espaciales y rankings ponderados.\n",
    "\n",
    "El proposito principal de este análisis es encontrar los mejores tacos de la ciudad de Mexico quisimos llevar nuestro proyecto a otro nivel, ya que nos preguntamos si existía la posibilidad  de encontrar los datos de el API de google maps, ya que de los datos que las personas y los negocios proporcionan dáa a día a la plataforma de google maps son demasiado valiosos.\n",
    "\n",
    "En CDMX y área conurbada existen más de 10000 taquerias las cueales se dividen entre locales y negocios callejeros, así que logramos extraer una muestra de 3000 mil datos de los cuales nos surguieron las siguientes preguntas: \n",
    "\n",
    "##### -¿Cuáles son los mejores tacos de la CDMX? \n",
    "##### -¿Cuáles son los mejores tacos cerca de ESCOM? \n",
    "##### -¿Cáles son los más pupulares? \n",
    "##### -¿Cuáles son los más recomendados? \n",
    "#####  Mejores tacos por delegación\n",
    "##### ¿Cuáles son los peores tacos de CDMX?\n"
   ]
  },
  {
   "cell_type": "markdown",
   "id": "c17e05dd",
   "metadata": {},
   "source": [
    "## Objetivos \n",
    "\n",
    "### Objetivo General\n",
    "\n",
    " Analizar, visualizar y evaluar datos de taquerías en la Ciudad de México para identificar tendencias de popularidad, ubicación y accesibilidad utilizando herramientas de ciencia de datos.\n",
    "\n",
    "### Objetivos específicos\n",
    "1. Aplicar estadística descriptiva al data frame obtenido de las taquerías que están registradas en google maps, utilizando biblotecas de python como numpy y pandas\n",
    "2. Encontrar taquerías destacadas con la información del DataFrame \n",
    "3. Encontrar la taquería con mejor calificación en toda la CDMX \n",
    "4. Encontrar la mejor taquería cercana a ESCOM\n",
    "5. Destacas las taquerías con peores calificaciones\n",
    "6. Realizar limpieza del DataFrame; y con este nuevo DataFrame aplicar estadistica descriptiva \n",
    "7. Agrupar y visualizar datos del DataFrame\n",
    "8. Diseñar e implementar un ranking ponderado más justo para determinar las taquerías más recomendables "
   ]
  },
  {
   "cell_type": "markdown",
   "id": "cb9c8f57",
   "metadata": {},
   "source": [
    "## Metodología \n",
    "El proyecto se desarrolla en varias etapas, desde la obtención de datos hasta el análisis geográfico y ponderado\n",
    "\n",
    "#### Primera parte: Obtención del DataFrame\n",
    "El dataset fue generado utilizando la Google Maps Platform, usamos Places API, mediante consultas con palabras clave como \"tacos\" o \"Taquerias\", lo cual permitió recuperar información de establecimientos comerciales clasificados como taquerías en la capital.\n",
    "\n",
    "El formato general de la solicitud HTTPS fue el siguiente:\n",
    "\n",
    "```\n",
    "response = requests.post(\n",
    "    \"https://places.googleapis.com/v1/places:searchText\", // endpoint de Google\n",
    "    headers=headers,\n",
    "    data=json.dumps(payload)\n",
    ")\n",
    "```\n",
    "Donde los headers preguntan por datos de Places API como numero de calificaciones de las taquerias, promedio de calificaciones, direccion, etc\n",
    "Y el Payload es el string a buscar\n",
    "```\n",
    "payload= \"textQuery\" : \"tacos\"\n",
    "```\n",
    "Foto cordenadas\n",
    "\n",
    "La extracción de datos se realizó mediante peticiones del tipo Text Search en la API, obteniendo los siguientes atributos por cada establecimiento:\n",
    "\n",
    "name: nombre del lugar\n",
    "\n",
    "address: dirección textual\n",
    "\n",
    "lat, lng: coordenadas geográficas\n",
    "\n",
    "rating: calificación promedio otorgada por los usuarios\n",
    "\n",
    "userRatingCount: número de reseñas\n",
    "\n",
    "priceLevel: nivel de precio categórico\n",
    "\n",
    "website: sitio web del establecimiento (si está disponible)\n",
    "\n",
    "La información fue almacenada en un archivo.csv y cargada en Python para su análisis posterior con pandas."
   ]
  },
  {
   "cell_type": "code",
   "execution_count": null,
   "id": "78cacb5e",
   "metadata": {},
   "outputs": [
    {
     "ename": "ModuleNotFoundError",
     "evalue": "No module named 'pandas'",
     "output_type": "error",
     "traceback": [
      "\u001b[31m---------------------------------------------------------------------------\u001b[39m",
      "\u001b[31mModuleNotFoundError\u001b[39m                       Traceback (most recent call last)",
      "\u001b[36mCell\u001b[39m\u001b[36m \u001b[39m\u001b[32mIn[1]\u001b[39m\u001b[32m, line 1\u001b[39m\n\u001b[32m----> \u001b[39m\u001b[32m1\u001b[39m \u001b[38;5;28;01mimport\u001b[39;00m\u001b[38;5;250m \u001b[39m\u001b[34;01mpandas\u001b[39;00m\u001b[38;5;250m \u001b[39m\u001b[38;5;28;01mas\u001b[39;00m\u001b[38;5;250m \u001b[39m\u001b[34;01mpd\u001b[39;00m\n\u001b[32m      2\u001b[39m \u001b[38;5;28;01mimport\u001b[39;00m\u001b[38;5;250m \u001b[39m\u001b[34;01mnumpy\u001b[39;00m\u001b[38;5;250m \u001b[39m\u001b[38;5;28;01mas\u001b[39;00m\u001b[38;5;250m \u001b[39m\u001b[34;01mnp\u001b[39;00m\n\u001b[32m      3\u001b[39m \u001b[38;5;28;01mimport\u001b[39;00m\u001b[38;5;250m \u001b[39m\u001b[34;01mmatplotlib\u001b[39;00m\u001b[34;01m.\u001b[39;00m\u001b[34;01mpyplot\u001b[39;00m\u001b[38;5;250m \u001b[39m\u001b[38;5;28;01mas\u001b[39;00m\u001b[38;5;250m \u001b[39m\u001b[34;01mplt\u001b[39;00m\n",
      "\u001b[31mModuleNotFoundError\u001b[39m: No module named 'pandas'"
     ]
    }
   ],
   "source": [
    "import pandas as pd\n",
    "import numpy as np\n",
    "import matplotlib.pyplot as plt\n",
    "import seaborn as sns\n",
    "import matplotlib.pyplot as plt\n",
    "import folium\n",
    "\n",
    "# Leer el archivo limpio y ya ordenado\n",
    "df = pd.read_csv(\"tacos_CDMX_sorted.csv\")\n",
    "print('Columnas disponibles: ',df.columns.tolist())\n"
   ]
  },
  {
   "cell_type": "markdown",
   "id": "15e7d374",
   "metadata": {},
   "source": [
    "### Mostramos todas las columnas de el dataset.\n",
    "Columnas disponibles:  ['name', 'address', 'lat', 'lng', 'rating', 'userRatingCount', 'priceLevel', 'website']\n"
   ]
  },
  {
   "cell_type": "markdown",
   "id": "3dfe1849",
   "metadata": {},
   "source": [
    "### Mostramos el dataset completo "
   ]
  },
  {
   "cell_type": "code",
   "execution_count": null,
   "id": "1dabbc6b",
   "metadata": {},
   "outputs": [
    {
     "ename": "NameError",
     "evalue": "name 'df' is not defined",
     "output_type": "error",
     "traceback": [
      "\u001b[31m---------------------------------------------------------------------------\u001b[39m",
      "\u001b[31mNameError\u001b[39m                                 Traceback (most recent call last)",
      "\u001b[36mCell\u001b[39m\u001b[36m \u001b[39m\u001b[32mIn[2]\u001b[39m\u001b[32m, line 1\u001b[39m\n\u001b[32m----> \u001b[39m\u001b[32m1\u001b[39m \u001b[43mdf\u001b[49m\n",
      "\u001b[31mNameError\u001b[39m: name 'df' is not defined"
     ]
    }
   ],
   "source": [
    "df"
   ]
  },
  {
   "cell_type": "markdown",
   "id": "ce0cb558",
   "metadata": {},
   "source": [
    "## Metodología \n",
    "\n",
    "### Segunda parte: Análisis Estadístico Descriptivo"
   ]
  },
  {
   "cell_type": "markdown",
   "id": "da94cac0",
   "metadata": {},
   "source": [
    "#### Filtraremos taquerías con datos utiles\n",
    "Quitaremos las que no tengan calificación y después las que tengan menos de 10 calificaciones."
   ]
  },
  {
   "cell_type": "code",
   "execution_count": null,
   "id": "6c0e0174",
   "metadata": {},
   "outputs": [],
   "source": [
    "#UserRating count es el numero de calificaciones\n",
    "dataFiltrada= df[df['userRatingCount']>=20]\n",
    "print(dataFiltrada.shape)\n",
    "dataFiltrada"
   ]
  },
  {
   "cell_type": "markdown",
   "id": "f8742ae6",
   "metadata": {},
   "source": [
    "# Como primer paso arrojaremos las taquerías mejor calificadas en la ciudad \n"
   ]
  },
  {
   "cell_type": "code",
   "execution_count": null,
   "id": "eb28f378",
   "metadata": {},
   "outputs": [],
   "source": [
    "top= dataFiltrada.sort_values(by='rating',ascending=False).head(15)\n",
    "top\n",
    "#sort_values ordena de mayor a menor el rating\n"
   ]
  },
  {
   "cell_type": "code",
   "execution_count": null,
   "id": "d533ce93",
   "metadata": {},
   "outputs": [],
   "source": [
    "taqueriasExcelentes= dataFiltrada[dataFiltrada['rating']>=5]\n",
    "taqueriasExcelentes= taqueriasExcelentes.sort_values(by='userRatingCount', ascending=False).head(300)\n",
    "print(taqueriasExcelentes.shape)\n",
    "taqueriasExcelentes\n",
    "#Aqui podemos visualizzar las taquerías mejor calificadas y con un gran numero de reviews"
   ]
  },
  {
   "cell_type": "code",
   "execution_count": null,
   "id": "50caf48a",
   "metadata": {},
   "outputs": [],
   "source": [
    "#con value_counts()contamos el numero de calificaciones por rating\n",
    "# y lo ordenamos con sort_index()\n",
    "# Esto nos da una idea de la distribucion de las calificaciones\n",
    "numero_calificaciones= dataFiltrada['rating'].value_counts().sort_index()\n",
    "numero_calificaciones\n"
   ]
  },
  {
   "cell_type": "code",
   "execution_count": null,
   "id": "e9e4211f",
   "metadata": {},
   "outputs": [],
   "source": [
    "# Graficar la distribución de calificaciones\n",
    "plt.figure(figsize=(12, 5))\n",
    "plt.hist(dataFiltrada['rating'], bins=np.arange(1, 5.1, 0.1), edgecolor='black')\n",
    "plt.title('Distribución de calificaciones de taquerías')\n",
    "plt.xlabel('Rating')\n",
    "plt.ylabel('Cantidad de taquerías')\n",
    "plt.grid(axis='y')\n",
    "plt.show()"
   ]
  },
  {
   "cell_type": "markdown",
   "id": "ad2688fb",
   "metadata": {},
   "source": [
    "##### Promedio de calificaciones\n",
    "Primero analizamos el promedio del taset completo.\n",
    "Después el promedio de el daataset ya filtrados, sin las taquerías que tienen menos de 5 calificaciones.\n"
   ]
  },
  {
   "cell_type": "code",
   "execution_count": null,
   "id": "3ab9c70d",
   "metadata": {},
   "outputs": [],
   "source": [
    "print('Media  general de calificaciones: ', df['rating'].mean())\n",
    "print('Media  general de calificaciones filtradas: ', dataFiltrada['rating'].mean())"
   ]
  },
  {
   "cell_type": "markdown",
   "id": "f4030bb1",
   "metadata": {},
   "source": [
    "####### Con el promedio general de calificaciones es de 4.43 nos damos cuenta que la mayoría de los tacos con más calificaciones estan por debajo del promedio, por lo tanto nos podemos tomar el numero de calificaciones como la metrica para conseguir el mejor taco de la cuidad. "
   ]
  },
  {
   "cell_type": "markdown",
   "id": "04b6c1c2",
   "metadata": {},
   "source": [
    "####\n"
   ]
  },
  {
   "cell_type": "markdown",
   "id": "2593f240",
   "metadata": {},
   "source": [
    "#### Mostraremos las taquerías y las calificaciones pero en lugar de una tabla las muestra con un punto.\n"
   ]
  },
  {
   "cell_type": "code",
   "execution_count": null,
   "id": "e313f435",
   "metadata": {},
   "outputs": [],
   "source": [
    "\n",
    "# Extraer los datos\n",
    "X = dataFiltrada['userRatingCount'].values\n",
    "y = dataFiltrada['rating'].values\n",
    "\n",
    "# Calcular la pendiente (m) y el intercepto (b) de la recta: y = mX + b\n",
    "m, b = np.polyfit(X, y, 1)  # Regresión lineal de grado 1\n",
    "\n",
    "# Predicción\n",
    "y_pred = m * X + b\n",
    "\n",
    "# Imprimir coeficientes\n",
    "print(\"Coeficiente (pendiente):\", m)\n",
    "print(\"Intercepto:\", b)\n",
    "\n",
    "# Gráfica\n",
    "plt.scatter(X, y, alpha=0.4, label='Datos reales')\n",
    "plt.plot(X, y_pred, color='red', label='Regresión lineal')\n",
    "plt.xlabel('Número de calificaciones')\n",
    "plt.ylabel('Rating')\n",
    "plt.title('Regresión lineal: Rating vs Número de calificaciones')\n",
    "plt.legend()\n",
    "plt.grid(True)\n",
    "plt.show()"
   ]
  },
  {
   "cell_type": "code",
   "execution_count": null,
   "id": "02cb65fa",
   "metadata": {},
   "outputs": [],
   "source": [
    "df"
   ]
  },
  {
   "cell_type": "markdown",
   "id": "6685a6c2",
   "metadata": {},
   "source": [
    "### Mejores taquerías por alcaldía \n",
    "\n"
   ]
  },
  {
   "cell_type": "code",
   "execution_count": null,
   "id": "b6ebd1fb",
   "metadata": {},
   "outputs": [],
   "source": [
    "#Lista de Alcaldias \n",
    "alcaldias_cdmx = [\n",
    "    'Álvaro Obregón', 'Azcapotzalco', 'Benito Juárez', 'Coyoacán', 'Cuajimalpa',\n",
    "    'Cuauhtémoc', 'Gustavo A. Madero', 'Iztacalco', 'Iztapalapa', 'La Magdalena Contreras',\n",
    "    'Miguel Hidalgo', 'Milpa Alta', 'Tláhuac', 'Tlalpan', 'Venustiano Carranza', 'Xochimilco'\n",
    "]\n",
    "\n",
    "#Función para extraer alcaldías \n",
    "def extraer_alcaldia(direccion):\n",
    "    for alcaldia in alcaldias_cdmx:\n",
    "        if alcaldia.lower() in direccion.lower():\n",
    "            return alcaldia\n",
    "    return \"No identificada\"\n",
    "\n",
    "df_copia2 = df.copy()\n",
    "df_filtrado2 = df_copia2[df_copia2['userRatingCount'] > 20]\n",
    "df_filtrado2['alcaldia'] = df_filtrado2['address'].apply(extraer_alcaldia)\n",
    "\n",
    "df_filtrado2"
   ]
  },
  {
   "cell_type": "code",
   "execution_count": null,
   "id": "f628ebb8",
   "metadata": {},
   "outputs": [],
   "source": [
    "# Obtener mejor taquería por alcaldía \n",
    "mejores_por_alcaldia_rating = df_filtrado2.loc[\n",
    "    df_filtrado2.groupby('alcaldia')['rating'].idxmax()\n",
    "].reset_index(drop=True)\n",
    "\n",
    "mejores_por_alcaldia_rating\n",
    "\n"
   ]
  },
  {
   "cell_type": "code",
   "execution_count": null,
   "id": "4da07bb4",
   "metadata": {},
   "outputs": [],
   "source": [
    "mejores_por_alcaldia = pd.DataFrame()  # 1. Creamos un DataFrame vacío para guardar resultados\n",
    "\n",
    "for alcaldia, grupo in df_filtrado2.groupby('alcaldia'):  # 2. Agrupamos el DataFrame por alcaldía y recorremos cada grupo\n",
    "    max_rating = grupo['rating'].max()  # 3. Encontramos la calificación máxima en esa alcaldía\n",
    "    mejores = grupo[grupo['rating'] == max_rating]  # 4. Filtramos las taquerías con esa calificación máxima\n",
    "    mejor = mejores.loc[mejores['userRatingCount'].idxmax()]  # 5. De las mejores, elegimos la que tiene más reseñas\n",
    "    mejores_por_alcaldia = pd.concat([mejores_por_alcaldia, mejor.to_frame().T], ignore_index=True)  # 6. Añadimos esa fila al DataFrame resultado\n",
    "\n",
    "\n",
    "mejores_por_alcaldia"
   ]
  },
  {
   "cell_type": "markdown",
   "id": "ce936bd5",
   "metadata": {},
   "source": [
    "## Metodología \n",
    "\n",
    "### Tercera Parte: Limpieza del DataSet"
   ]
  },
  {
   "cell_type": "code",
   "execution_count": null,
   "id": "dbc26bac",
   "metadata": {},
   "outputs": [],
   "source": [
    "# Verificar columnas clave antes de limpiar\n",
    "print(\"Nulos por columna en el dataset original:\")\n",
    "print(df.isnull().sum())\n",
    "\n",
    "# Crear una copia del DataFrame original para limpiarlo\n",
    "df_limpio = df.copy()\n",
    "\n",
    "# 🔹 1. Eliminar filas con NaN en columnas clave\n",
    "columnas_clave = ['rating', 'userRatingCount', 'priceLevel', 'lat', 'lng']\n",
    "df_limpio = df_limpio.dropna(subset=columnas_clave)\n",
    "\n",
    "df_limpio"
   ]
  },
  {
   "cell_type": "code",
   "execution_count": null,
   "id": "44487358",
   "metadata": {},
   "outputs": [],
   "source": [
    "# 🔹 2. Mapear priceLevel de texto a valores numéricos\n",
    "price_mapping = {\n",
    "    'PRICE_LEVEL_FREE': 0,\n",
    "    'PRICE_LEVEL_INEXPENSIVE': 1,\n",
    "    'PRICE_LEVEL_MODERATE': 2,\n",
    "    'PRICE_LEVEL_EXPENSIVE': 3,\n",
    "    'PRICE_LEVEL_VERY_EXPENSIVE': 4\n",
    "}\n",
    "df_limpio['priceLevel'] = df_limpio['priceLevel'].map(price_mapping)\n",
    "\n",
    "# 🔹 3. Convertir columnas a formato numérico adecuado\n",
    "df_limpio['rating'] = pd.to_numeric(df_limpio['rating'], errors='coerce')\n",
    "df_limpio['userRatingCount'] = pd.to_numeric(df_limpio['userRatingCount'], errors='coerce')\n",
    "df_limpio['priceLevel'] = pd.to_numeric(df_limpio['priceLevel'], errors='coerce').astype('Int64')\n",
    "df_limpio['lat'] = pd.to_numeric(df_limpio['lat'], errors='coerce')\n",
    "df_limpio['lng'] = pd.to_numeric(df_limpio['lng'], errors='coerce')\n",
    "\n",
    "# 🔹 4. Eliminar duplicados\n",
    "df_limpio = df_limpio.drop_duplicates()\n",
    "\n",
    "# Reporte final\n",
    "print(\"\\nNulos por columna en el DataFrame limpio:\")\n",
    "print(df_limpio.isnull().sum())\n",
    "print(\"\\nTamaño final del DataFrame limpio:\", df_limpio.shape)"
   ]
  },
  {
   "cell_type": "code",
   "execution_count": null,
   "id": "05586a1c",
   "metadata": {},
   "outputs": [],
   "source": [
    "df_limpio"
   ]
  },
  {
   "cell_type": "code",
   "execution_count": null,
   "id": "c80ff413",
   "metadata": {},
   "outputs": [],
   "source": [
    "#  1. Estadísticas generales\n",
    "print(\"Estadísticas generales del DataFrame limpio:\\n\")\n",
    "print(df_limpio.describe(include='all'))\n",
    "\n",
    "# 2. Conteo total de taquerías\n",
    "total_taquerias = len(df_limpio)\n",
    "print(f\"\\nTotal de taquerías: {total_taquerias}\")\n",
    "\n",
    "#  3. Media y desviación estándar de calificación\n",
    "media_rating = df_limpio['rating'].mean()\n",
    "std_rating = df_limpio['rating'].std()\n",
    "print(f\"\\nCalificación promedio: {media_rating:.2f}\")\n",
    "print(f\"Desviación estándar de calificación: {std_rating:.2f}\")\n",
    "\n",
    "# 4. Media y desviación estándar del número de reseñas\n",
    "media_resenas = df_limpio['userRatingCount'].mean()\n",
    "std_resenas = df_limpio['userRatingCount'].std()\n",
    "print(f\"\\n Reseñas promedio: {media_resenas:.2f}\")\n",
    "print(f\"Desviación estándar de reseñas: {std_resenas:.2f}\")\n",
    "\n",
    "\n"
   ]
  },
  {
   "cell_type": "markdown",
   "id": "65839b75",
   "metadata": {},
   "source": [
    "### Taquerías con peor y mejor calificación en DataFrame limpio"
   ]
  },
  {
   "cell_type": "code",
   "execution_count": null,
   "id": "eedbddb0",
   "metadata": {},
   "outputs": [],
   "source": [
    "df_limpio_ordenado = df_limpio.sort_values(by='rating', ascending=False)\n",
    "df_limpio_ordenado.head(10)"
   ]
  },
  {
   "cell_type": "code",
   "execution_count": null,
   "id": "6bebbcbd",
   "metadata": {},
   "outputs": [],
   "source": [
    "df_limpio_ordenado.tail(5)\n"
   ]
  },
  {
   "cell_type": "markdown",
   "id": "63a01963",
   "metadata": {},
   "source": [
    "## Metodología\n",
    "\n",
    "### Cuarta parte : Ranking ponderado \n",
    "\n",
    "El objetivo es crear un ranking más justo y así encontrar las taquerías más recomendables tomando en cuenta:\n",
    "Calidad (rating)\n",
    "Popularidad (userRatingCount)\n",
    "Accesibilidad (priceLevel)\n",
    "\n",
    "Con el objetivo de determinar de forma objetiva cuáles son las taquerías más recomendables de la Ciudad de México, se diseñó un ranking ponderado que integra tres factores clave: la calidad percibida por los usuarios (rating), la popularidad basada en el número de reseñas (userRatingCount) y la accesibilidad económica (priceLevel)."
   ]
  },
  {
   "cell_type": "markdown",
   "id": "dfe215dc",
   "metadata": {},
   "source": [
    "#### Fundamento del Ranking \n",
    "* Fórmula \n",
    "\n",
    "$Ranking=\\frac{rating x log(userRatingCoun)}{(priceLevel+1)}$\n",
    "\n",
    "Variables utilizadas:\n",
    "- rating: calificación promedio del establecimiento (escala de 1 a 5).\n",
    "- userRatingCount: cantidad de reseñas emitidas por usuarios en Google Maps.\n",
    "- priceLevel: nivel de precio del establecimiento (de 0 a 4, donde 0 = gratuito, 4 = muy caro).\n"
   ]
  },
  {
   "cell_type": "markdown",
   "id": "cff51595",
   "metadata": {},
   "source": [
    "Justificación \n",
    "- Se multiplica rating por el logaritmo natural de userRatingCount para favorecer lugares con buenas calificaciones respaldadas por muchas reseñas.\n",
    "- El uso de log evita que valores extremadamente altos de reseñas dominen el cálculo.\n",
    "- Se divide entre priceLevel + 1 para penalizar taquerías costosas y dar preferencia a las más accesibles. El +1 evita división entre cero"
   ]
  },
  {
   "cell_type": "code",
   "execution_count": null,
   "id": "ca52ca39",
   "metadata": {},
   "outputs": [],
   "source": [
    "# Asegurarse de eliminar cualquier fila con valores nulos en las columnas involucradas\n",
    "df_ranking = df_limpio.dropna(subset=['rating', 'userRatingCount', 'priceLevel'])\n",
    "\n",
    "# Eliminar entradas donde userRatingCount sea <= 0 para evitar log(0) o errores\n",
    "df_ranking = df_ranking[df_ranking['userRatingCount'] > 0]\n",
    "\n",
    "# Calcular el ranking ponderado\n",
    "df_ranking['ranking'] = (df_ranking['rating'] * np.log(df_ranking['userRatingCount'])) / (df_ranking['priceLevel'] + 1)\n",
    "\n",
    "print(df['priceLevel'].unique())\n",
    "df_ranking"
   ]
  },
  {
   "cell_type": "markdown",
   "id": "4f15b253",
   "metadata": {},
   "source": [
    "#### Ordenar en base a rankink ponderado"
   ]
  },
  {
   "cell_type": "code",
   "execution_count": null,
   "id": "c108cbf3",
   "metadata": {},
   "outputs": [],
   "source": [
    "# Ordenar de mayor a menor para obtener las mejores y peores taquerías\n",
    "df_ranking.sort_values(by='ranking', ascending=False).head(10)\n",
    "\n",
    "\n",
    "\n"
   ]
  },
  {
   "cell_type": "code",
   "execution_count": null,
   "id": "ed62a822",
   "metadata": {},
   "outputs": [],
   "source": [
    "df_ranking.sort_values(by='ranking', ascending=True).head(5)"
   ]
  },
  {
   "cell_type": "code",
   "execution_count": null,
   "id": "d448a2d2",
   "metadata": {},
   "outputs": [],
   "source": [
    "df_ranking[df_ranking['userRatingCount'] > 100].sort_values(by='ranking', ascending=True).head(10)"
   ]
  },
  {
   "cell_type": "code",
   "execution_count": null,
   "id": "830126af",
   "metadata": {},
   "outputs": [],
   "source": [
    "#Lista de Alcaldias \n",
    "alcaldias_cdmx = [\n",
    "    'Álvaro Obregón', 'Azcapotzalco', 'Benito Juárez', 'Coyoacán', 'Cuajimalpa',\n",
    "    'Cuauhtémoc', 'Gustavo A. Madero', 'Iztacalco', 'Iztapalapa', 'La Magdalena Contreras',\n",
    "    'Miguel Hidalgo', 'Milpa Alta', 'Tláhuac', 'Tlalpan', 'Venustiano Carranza', 'Xochimilco'\n",
    "]\n",
    "\n",
    "#Función para extraer alcaldías \n",
    "def extraer_alcaldia(direccion):\n",
    "    for alcaldia in alcaldias_cdmx:\n",
    "        if alcaldia.lower() in direccion.lower():\n",
    "            return alcaldia\n",
    "    return \"No identificada\"\n",
    "\n",
    "df_copia_ranking = df_ranking.copy()\n",
    "df_copia_ranking['alcaldia'] = df_copia_ranking['address'].apply(extraer_alcaldia)\n",
    "\n",
    "df_copia_ranking"
   ]
  },
  {
   "cell_type": "code",
   "execution_count": null,
   "id": "86369f93",
   "metadata": {},
   "outputs": [],
   "source": [
    "# Obtener mejor taquería por alcaldía \n",
    "mejores_por_alcaldia_ranking = df_copia_ranking.loc[\n",
    "    df_copia_ranking.groupby('alcaldia')['rating'].idxmax()\n",
    "].reset_index(drop=True)\n",
    "\n",
    "mejores_por_alcaldia_ranking"
   ]
  },
  {
   "cell_type": "code",
   "execution_count": null,
   "id": "8f5f9a17",
   "metadata": {},
   "outputs": [],
   "source": [
    "columnas_clave2 = ['rating', 'userRatingCount']\n",
    "df_limpio2 = df.dropna(subset=columnas_clave2)\n",
    "\n",
    "df_limpio2['rating'] = pd.to_numeric(df_limpio2['rating'], errors='coerce')\n",
    "df_limpio2['userRatingCount'] = pd.to_numeric(df_limpio2['userRatingCount'], errors='coerce')\n",
    "\n",
    "df_limpio2 = df_limpio2.drop_duplicates()\n",
    "\n",
    "\n",
    "df_limpio2\n",
    "\n",
    "\n"
   ]
  },
  {
   "cell_type": "code",
   "execution_count": null,
   "id": "f5bad1db",
   "metadata": {},
   "outputs": [],
   "source": [
    "df_limpio2 = df_limpio2[df_limpio2['userRatingCount'] > 0]\n",
    "\n",
    "df_limpio2['ranking2'] = (df_ranking['rating'] * np.log(df_ranking['userRatingCount'])) \n",
    "\n",
    "df_limpio2"
   ]
  },
  {
   "cell_type": "code",
   "execution_count": null,
   "id": "e4063413",
   "metadata": {},
   "outputs": [],
   "source": [
    "df_limpio2.sort_values(by='ranking2', ascending=False).head(10)"
   ]
  },
  {
   "cell_type": "code",
   "execution_count": null,
   "id": "89f79381",
   "metadata": {},
   "outputs": [],
   "source": [
    "\n",
    "# Centrar el mapa en CDMX\n",
    "mapa = folium.Map(location=[19.4326, -99.1332], zoom_start=12)\n",
    "\n",
    "# Agregar marcadores al mapa desde df_limpio\n",
    "for index, row in df_limpio.iterrows():\n",
    "    folium.Marker(\n",
    "        location=[row['lat'], row['lng']],\n",
    "        popup=f\"{row['name']}<br>Rating: {row['rating']}<br>Precio: {row['priceLevel']}\",\n",
    "        tooltip=row['name'],\n",
    "        icon=folium.Icon(color=\"red\", icon=\"cutlery\", prefix=\"fa\")\n",
    "    ).add_to(mapa)\n",
    "\n",
    "# Mostrar el mapa\n",
    "mapa"
   ]
  }
 ],
 "metadata": {
  "kernelspec": {
   "display_name": "Python 3",
   "language": "python",
   "name": "python3"
  },
  "language_info": {
   "codemirror_mode": {
    "name": "ipython",
    "version": 3
   },
   "file_extension": ".py",
   "mimetype": "text/x-python",
   "name": "python",
   "nbconvert_exporter": "python",
   "pygments_lexer": "ipython3",
   "version": "3.13.3"
  }
 },
 "nbformat": 4,
 "nbformat_minor": 5
}
