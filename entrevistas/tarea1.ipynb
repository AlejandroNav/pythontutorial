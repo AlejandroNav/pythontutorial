{
 "cells": [
  {
   "cell_type": "markdown",
   "id": "e278b50c",
   "metadata": {},
   "source": [
    "### Tarea de Matriz Identidad\n",
    "Empece creando un simple renglon identidad 1x3"
   ]
  },
  {
   "cell_type": "code",
   "execution_count": 7,
   "id": "2bcdff01",
   "metadata": {},
   "outputs": [
    {
     "name": "stdout",
     "output_type": "stream",
     "text": [
      "1 0 0 "
     ]
    }
   ],
   "source": [
    "for i in range(3):\n",
    "    if i == 0:\n",
    "        print(1,end=\" \") # end sirve para que print no haga cambio de linea\n",
    "    else:\n",
    "        print(0,end=\" \")\n"
   ]
  },
  {
   "cell_type": "markdown",
   "id": "db0a879e",
   "metadata": {},
   "source": [
    "Ahora creo la funcion y añado la segunda dimension, pero usando solo ciclos for y print sin la lista todavia."
   ]
  },
  {
   "cell_type": "code",
   "execution_count": 8,
   "id": "46ab5af6",
   "metadata": {},
   "outputs": [
    {
     "name": "stdout",
     "output_type": "stream",
     "text": [
      "1 0 0 0 0 0 0  \n",
      "0 1 0 0 0 0 0  \n",
      "0 0 1 0 0 0 0  \n",
      "0 0 0 1 0 0 0  \n",
      "0 0 0 0 1 0 0  \n",
      "0 0 0 0 0 1 0  \n",
      "0 0 0 0 0 0 1  \n"
     ]
    }
   ],
   "source": [
    "def identidad(n):# recibe el numero de renglones que queramos\n",
    "    for renglones in range(n):\n",
    "        for elemento in range(n):\n",
    "            if renglones == elemento:\n",
    "                print(\"1\",end=\" \")\n",
    "            else:\n",
    "                print(\"0\",end=\" \")           \n",
    "        print(\" \")    \n",
    "\n",
    "identidad(7)"
   ]
  },
  {
   "cell_type": "markdown",
   "id": "5b61f581",
   "metadata": {},
   "source": [
    "Version que si usa listas"
   ]
  },
  {
   "cell_type": "code",
   "execution_count": 9,
   "id": "7109faa4",
   "metadata": {},
   "outputs": [
    {
     "name": "stdout",
     "output_type": "stream",
     "text": [
      "[[1, 0, 0, 0, 0], [0, 1, 0, 0, 0], [0, 0, 1, 0, 0], [0, 0, 0, 1, 0], [0, 0, 0, 0, 1]]\n"
     ]
    }
   ],
   "source": [
    "def matriz_identidad(n): \n",
    "    matriz = [] #matriz en una lista de listas\n",
    "    for filas in range(n):\n",
    "        fila = [] #fila es una lista de elementos\n",
    "        for columnas in range(n):\n",
    "            if filas == columnas:\n",
    "                fila.append(1)\n",
    "            else:\n",
    "                fila.append(0)\n",
    "        matriz.append(fila)\n",
    "    return matriz\n",
    "\n",
    "resultado = matriz_identidad(5)\n",
    "print(resultado)\n"
   ]
  },
  {
   "cell_type": "markdown",
   "id": "a406dc92",
   "metadata": {},
   "source": [
    "Ahora creo una funcion para mostrar la matriz de manera bonita"
   ]
  },
  {
   "cell_type": "code",
   "execution_count": 10,
   "id": "2aa463d5",
   "metadata": {},
   "outputs": [
    {
     "name": "stdout",
     "output_type": "stream",
     "text": [
      "1 0 0 0 0 \n",
      "0 1 0 0 0 \n",
      "0 0 1 0 0 \n",
      "0 0 0 1 0 \n",
      "0 0 0 0 1 \n"
     ]
    }
   ],
   "source": [
    "\n",
    "\n",
    "resultado = matriz_identidad(5)\n",
    "\n",
    "for fila in resultado:\n",
    "    for elemento in fila:\n",
    "        print(elemento, end=\" \") #uso end para que no salte siempre\n",
    "    print()#el print vacio hace que salte solo en las filas\n",
    "\n"
   ]
  },
  {
   "cell_type": "markdown",
   "id": "a9f9f1c2",
   "metadata": {},
   "source": [
    "Para terminar le pregunto al usuario de que tamano quiere su matriz"
   ]
  },
  {
   "cell_type": "code",
   "execution_count": 11,
   "id": "721a585d",
   "metadata": {},
   "outputs": [
    {
     "name": "stdout",
     "output_type": "stream",
     "text": [
      "1 0 0 0 0 0 0 0 0 0 0 0 \n",
      "0 1 0 0 0 0 0 0 0 0 0 0 \n",
      "0 0 1 0 0 0 0 0 0 0 0 0 \n",
      "0 0 0 1 0 0 0 0 0 0 0 0 \n",
      "0 0 0 0 1 0 0 0 0 0 0 0 \n",
      "0 0 0 0 0 1 0 0 0 0 0 0 \n",
      "0 0 0 0 0 0 1 0 0 0 0 0 \n",
      "0 0 0 0 0 0 0 1 0 0 0 0 \n",
      "0 0 0 0 0 0 0 0 1 0 0 0 \n",
      "0 0 0 0 0 0 0 0 0 1 0 0 \n",
      "0 0 0 0 0 0 0 0 0 0 1 0 \n",
      "0 0 0 0 0 0 0 0 0 0 0 1 \n"
     ]
    }
   ],
   "source": [
    "# Pedir al usuario el tamaño\n",
    "n = int(input(\"¿De qué tamaño quieres la matriz identidad? \"))\n",
    "\n",
    "# Construr la matiz\n",
    "resultado = matriz_identidad(n)\n",
    "\n",
    "# mostrar la matriz\n",
    "for fila in resultado:\n",
    "    for elemento in fila:\n",
    "        print(elemento, end=\" \") #uso end para que no salte siempre\n",
    "    print()#el print vacio hace que salte solo en las filas\n"
   ]
  },
  {
   "cell_type": "markdown",
   "id": "a39ce990",
   "metadata": {},
   "source": [
    "## Hecho ahora con list comprehension   \n",
    "Sintaxis de list comprehension   [expresión for variable in iterable if condición]"
   ]
  },
  {
   "cell_type": "code",
   "execution_count": 12,
   "id": "1439a066",
   "metadata": {},
   "outputs": [
    {
     "name": "stdout",
     "output_type": "stream",
     "text": [
      "1 0 0 \n",
      "0 1 0 \n",
      "0 0 1 \n"
     ]
    }
   ],
   "source": [
    "def matriz_identidad_comprehension(n):\n",
    "    return [[1 if filas == columnas else 0 for columnas in range(n)] \n",
    "            for filas in range(n)]\n",
    "    #El primer for filas in range(n) > recorre cada fila de la matriz.\n",
    "    #El segundo for columnas in range(n) > genera cada elemento dentro de esa fila.\n",
    "\n",
    "n = int(input(\"¿De qué tamaño quieres la matriz identidad? \"))\n",
    "resultado = matriz_identidad(n)\n",
    "\n",
    "\n",
    "# mostrar la matriz\n",
    "for fila in resultado:\n",
    "    for elemento in fila:\n",
    "        print(elemento, end=\" \") #uso end para que no salte siempre\n",
    "    print()#el print vacio hace que salte solo en las filas\n",
    "\n"
   ]
  }
 ],
 "metadata": {
  "kernelspec": {
   "display_name": "Python 3",
   "language": "python",
   "name": "python3"
  },
  "language_info": {
   "codemirror_mode": {
    "name": "ipython",
    "version": 3
   },
   "file_extension": ".py",
   "mimetype": "text/x-python",
   "name": "python",
   "nbconvert_exporter": "python",
   "pygments_lexer": "ipython3",
   "version": "3.13.5"
  }
 },
 "nbformat": 4,
 "nbformat_minor": 5
}
