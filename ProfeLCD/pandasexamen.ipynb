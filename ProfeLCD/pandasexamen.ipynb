{
 "cells": [
  {
   "cell_type": "code",
   "execution_count": 2,
   "id": "5bb1cc9e",
   "metadata": {},
   "outputs": [
    {
     "name": "stdout",
     "output_type": "stream",
     "text": [
      "   Alumno  Matemáticas  Inglés  Historia  Ciencias  Arte\n",
      "0    Juan           85      80        90        88    92\n",
      "1   María           92      94        88        96    90\n",
      "2   Pedro           78      82        85        81    80\n",
      "3     Ana           88      86        91        89    85\n",
      "4    Luis           90      88        87        92    88\n",
      "5   Sofía           95      90        93        94    91\n",
      "6  Carlos           73      75        79        76    78\n",
      "7    Rosa           89      87        90        90    86\n",
      "8  Miguel           84      83        88        85    82\n",
      "9   Laura           91      92        89        93    90\n"
     ]
    }
   ],
   "source": [
    "import pandas as pd\n",
    "\n",
    "df = pd.DataFrame({\n",
    "    \"Alumno\": [\"Juan\",\"María\",\"Pedro\",\"Ana\",\"Luis\",\n",
    "            \"Sofía\",\"Carlos\",\"Rosa\",\"Miguel\",\"Laura\"],\n",
    "    \"Matemáticas\": [85,92,78,88,90,95,73,89,84,91],\n",
    "    \"Inglés\":      [80,94,82,86,88,90,75,87,83,92],\n",
    "    \"Historia\":    [90,88,85,91,87,93,79,90,88,89],\n",
    "    \"Ciencias\":    [88,96,81,89,92,94,76,90,85,93],\n",
    "    \"Arte\":        [92,90,80,85,88,91,78,86,82,90],\n",
    "})\n",
    "# Mostrar el DataFrame  \n",
    "print(df)"
   ]
  },
  {
   "cell_type": "code",
   "execution_count": null,
   "id": "003b68a0",
   "metadata": {},
   "outputs": [
    {
     "data": {
      "text/plain": [
       "np.int64(85)"
      ]
     },
     "execution_count": 5,
     "metadata": {},
     "output_type": "execute_result"
    }
   ],
   "source": [
    "# \tMostrar la calificación de Juan en Matemáticas.\n",
    "#solucion c usa .loc con una condición sobre 'Alumno' y selecciona 'Matemáticas'\n",
    "\n",
    "juan_mate =  df.loc[df['Alumno'] == 'Juan', 'Matemáticas'].iloc[0]\n",
    "juan_mate\n"
   ]
  },
  {
   "cell_type": "code",
   "execution_count": 6,
   "id": "d78d75fc",
   "metadata": {},
   "outputs": [
    {
     "name": "stdout",
     "output_type": "stream",
     "text": [
      "0    80\n",
      "1    94\n",
      "2    82\n",
      "3    86\n",
      "4    88\n",
      "5    90\n",
      "6    75\n",
      "7    87\n",
      "8    83\n",
      "9    92\n",
      "Name: Inglés, dtype: int64\n"
     ]
    }
   ],
   "source": [
    "\t# Obtener las calificaciones de todos en Inglés.\n",
    "# Tip: selecciona la columna por nombre directamente\n",
    "\n",
    "ingles = df['Inglés']\n",
    "print(ingles)"
   ]
  },
  {
   "cell_type": "code",
   "execution_count": 8,
   "id": "6a5b8afa",
   "metadata": {},
   "outputs": [
    {
     "name": "stdout",
     "output_type": "stream",
     "text": [
      "  Alumno  Matemáticas  Inglés  Historia  Ciencias  Arte\n",
      "1  María           92      94        88        96    90\n"
     ]
    }
   ],
   "source": [
    "# Mostrar todas las calificaciones de María \n",
    "maria1 = df.loc[df['Alumno'] == 'María']\n",
    "print(maria1)"
   ]
  },
  {
   "cell_type": "code",
   "execution_count": null,
   "id": "08952ecb",
   "metadata": {},
   "outputs": [
    {
     "name": "stdout",
     "output_type": "stream",
     "text": [
      "   Matemáticas  Inglés  Historia  Ciencias  Arte\n",
      "1           92      94        88        96    90\n"
     ]
    }
   ],
   "source": [
    "# Mostrar todas las calificaciones de María combinación de condición NOT  slicing de columnas\n",
    "maria = df.loc[df['Alumno'] == 'María', df.columns != 'Alumno']\n",
    "print(maria)"
   ]
  },
  {
   "cell_type": "code",
   "execution_count": 10,
   "id": "6296f4ae",
   "metadata": {},
   "outputs": [
    {
     "name": "stdout",
     "output_type": "stream",
     "text": [
      "  Alumno  Historia\n",
      "0   Juan        90\n",
      "3    Ana        91\n",
      "5  Sofía        93\n",
      "7   Rosa        90\n"
     ]
    }
   ],
   "source": [
    "# Listar los alumnos con ≥ 90 en Historia, mostrando nombre y calificacion.\n",
    "hist90 = df.loc[df['Historia'] >= 90, ['Alumno', 'Historia']]\n",
    "print(hist90)"
   ]
  },
  {
   "cell_type": "code",
   "execution_count": 11,
   "id": "5931b3ed",
   "metadata": {},
   "outputs": [
    {
     "name": "stdout",
     "output_type": "stream",
     "text": [
      "  Alumno  Ciencias\n",
      "1  María        96\n",
      "3    Ana        89\n",
      "4   Luis        92\n",
      "5  Sofía        94\n",
      "7   Rosa        90\n",
      "9  Laura        93\n"
     ]
    }
   ],
   "source": [
    "# \tCalcular la media(promedio) de Ciencias y filtrar quiénes están por encima.\n",
    "# solcuion usa .mean() y compara la columna\n",
    "media = df['Ciencias'].mean()\n",
    "ciencias_top = df.loc[df['Ciencias'] > media, ['Alumno', 'Ciencias']]\n",
    "print(ciencias_top)"
   ]
  },
  {
   "cell_type": "code",
   "execution_count": 12,
   "id": "01bbe742",
   "metadata": {},
   "outputs": [
    {
     "name": "stdout",
     "output_type": "stream",
     "text": [
      "   Inglés  Arte\n",
      "0      80    92\n",
      "1      94    90\n"
     ]
    }
   ],
   "source": [
    "#seleccionar Juan y María mostrando solo Inglés y Arte. loc, isin() para varios nombres\n",
    "sel = df.loc[df['Alumno'].isin(['Juan','María']), ['Inglés','Arte']]\n",
    "print(sel)"
   ]
  },
  {
   "cell_type": "code",
   "execution_count": null,
   "id": "bd33cbad",
   "metadata": {},
   "outputs": [
    {
     "name": "stdout",
     "output_type": "stream",
     "text": [
      "Alumno         Ana\n",
      "Matemáticas     88\n",
      "Inglés          86\n",
      "Historia        91\n",
      "Ciencias        89\n",
      "Arte            85\n",
      "Name: 3, dtype: object\n"
     ]
    }
   ],
   "source": [
    "#mostrar la 4.ª fila completa  iloc, empeiza en ceros \n",
    "fila4 = df.iloc[3]\n",
    "print(fila4)\n",
    "#la fila 4 resulta ser ANA"
   ]
  },
  {
   "cell_type": "code",
   "execution_count": 4,
   "id": "5782917e",
   "metadata": {},
   "outputs": [
    {
     "data": {
      "text/html": [
       "<div>\n",
       "<style scoped>\n",
       "    .dataframe tbody tr th:only-of-type {\n",
       "        vertical-align: middle;\n",
       "    }\n",
       "\n",
       "    .dataframe tbody tr th {\n",
       "        vertical-align: top;\n",
       "    }\n",
       "\n",
       "    .dataframe thead th {\n",
       "        text-align: right;\n",
       "    }\n",
       "</style>\n",
       "<table border=\"1\" class=\"dataframe\">\n",
       "  <thead>\n",
       "    <tr style=\"text-align: right;\">\n",
       "      <th></th>\n",
       "      <th>Ciencias</th>\n",
       "      <th>Arte</th>\n",
       "    </tr>\n",
       "  </thead>\n",
       "  <tbody>\n",
       "    <tr>\n",
       "      <th>0</th>\n",
       "      <td>88</td>\n",
       "      <td>92</td>\n",
       "    </tr>\n",
       "    <tr>\n",
       "      <th>1</th>\n",
       "      <td>96</td>\n",
       "      <td>90</td>\n",
       "    </tr>\n",
       "    <tr>\n",
       "      <th>2</th>\n",
       "      <td>81</td>\n",
       "      <td>80</td>\n",
       "    </tr>\n",
       "  </tbody>\n",
       "</table>\n",
       "</div>"
      ],
      "text/plain": [
       "   Ciencias  Arte\n",
       "0        88    92\n",
       "1        96    90\n",
       "2        81    80"
      ]
     },
     "execution_count": 4,
     "metadata": {},
     "output_type": "execute_result"
    }
   ],
   "source": [
    "#extraer las primeras 3 filas y las últimas 2 columnas.\n",
    "subtraccion= df.iloc[0:3, -2:]\n",
    "subtraccion\n"
   ]
  },
  {
   "cell_type": "code",
   "execution_count": 14,
   "id": "efdb1e57",
   "metadata": {},
   "outputs": [
    {
     "name": "stdout",
     "output_type": "stream",
     "text": [
      "   Alumno  Historia\n",
      "0    Juan        90\n",
      "1   María        88\n",
      "2   Pedro        85\n",
      "3     Ana        91\n",
      "4    Luis        87\n",
      "5   Sofía        93\n",
      "6  Carlos        81\n",
      "7    Rosa        92\n",
      "8  Miguel        88\n",
      "9   Laura        89\n"
     ]
    }
   ],
   "source": [
    "# asignación condicional\n",
    "# #(.loc) Cambiar Historia de Carlos a 81 y de Rosa a 92\n",
    "df.loc[df['Alumno'] == 'Carlos', 'Historia'] = 81\n",
    "df.loc[df['Alumno'] == 'Rosa', 'Historia'] = 92\n",
    "print(df[['Alumno', 'Historia']])\n",
    "\n"
   ]
  },
  {
   "cell_type": "code",
   "execution_count": null,
   "id": "17e7a76e",
   "metadata": {},
   "outputs": [],
   "source": []
  }
 ],
 "metadata": {
  "kernelspec": {
   "display_name": "Python 3",
   "language": "python",
   "name": "python3"
  },
  "language_info": {
   "codemirror_mode": {
    "name": "ipython",
    "version": 3
   },
   "file_extension": ".py",
   "mimetype": "text/x-python",
   "name": "python",
   "nbconvert_exporter": "python",
   "pygments_lexer": "ipython3",
   "version": "3.13.5"
  }
 },
 "nbformat": 4,
 "nbformat_minor": 5
}
