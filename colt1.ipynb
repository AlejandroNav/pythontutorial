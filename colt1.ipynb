{
 "cells": [
  {
   "cell_type": "code",
   "execution_count": 29,
   "id": "ac6e699e",
   "metadata": {
    "vscode": {
     "languageId": "ruby"
    }
   },
   "outputs": [
    {
     "name": "stdout",
     "output_type": "stream",
     "text": [
      "['Three ', 'ings for the Elven-kings under the sky,']\n"
     ]
    }
   ],
   "source": [
    "texto = \"Three Rings for the Elven-kings under the sky,\"\n",
    "cadenas2 = np.array(np.char.split(texto,sep=\"R\"))\n",
    "print(cadenas2)\n"
   ]
  },
  {
   "cell_type": "markdown",
   "id": "fa97165c",
   "metadata": {},
   "source": [
    "### Este documento"
   ]
  },
  {
   "cell_type": "code",
   "execution_count": null,
   "id": "b8935560",
   "metadata": {
    "vscode": {
     "languageId": "ruby"
    }
   },
   "outputs": [],
   "source": []
  },
  {
   "cell_type": "code",
   "execution_count": null,
   "id": "539a92c4",
   "metadata": {
    "vscode": {
     "languageId": "ruby"
    }
   },
   "outputs": [],
   "source": []
  }
 ],
 "metadata": {
  "kernelspec": {
   "display_name": "Python 3",
   "language": "python",
   "name": "python3"
  },
  "language_info": {
   "codemirror_mode": {
    "name": "ipython",
    "version": 3
   },
   "file_extension": ".py",
   "mimetype": "text/x-python",
   "name": "python",
   "nbconvert_exporter": "python",
   "pygments_lexer": "ipython3",
   "version": "3.13.3"
  }
 },
 "nbformat": 4,
 "nbformat_minor": 5
}
