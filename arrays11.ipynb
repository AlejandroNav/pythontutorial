{
 "cells": [
  {
   "cell_type": "markdown",
   "id": "cf1f9f5e-407d-46a5-b5fa-7fdecf3ca70d",
   "metadata": {},
   "source": [
    "# Broadcasting"
   ]
  },
  {
   "cell_type": "code",
   "execution_count": 1,
   "id": "6e08ebb6-aebb-4bcc-9c5a-16253d266ef3",
   "metadata": {},
   "outputs": [],
   "source": [
    "import numpy as np"
   ]
  },
  {
   "cell_type": "code",
   "execution_count": 2,
   "id": "958fb702-11a5-4312-b838-dcf42ae16e94",
   "metadata": {},
   "outputs": [
    {
     "data": {
      "text/plain": [
       "[4, 11, 8, 8, 10, 4, 2, 9, 11, 5]"
      ]
     },
     "execution_count": 2,
     "metadata": {},
     "output_type": "execute_result"
    }
   ],
   "source": [
    "import random\n",
    "lista = [random.randint(1,11) for _ in range(10)]\n",
    "lista"
   ]
  },
  {
   "cell_type": "code",
   "execution_count": null,
   "id": "971ac90f-7024-4f57-8ddb-6dbfdfce9b8c",
   "metadata": {},
   "outputs": [
    {
     "ename": "TypeError",
     "evalue": "can only concatenate list (not \"int\") to list",
     "output_type": "error",
     "traceback": [
      "\u001b[31m---------------------------------------------------------------------------\u001b[39m",
      "\u001b[31mTypeError\u001b[39m                                 Traceback (most recent call last)",
      "\u001b[36mCell\u001b[39m\u001b[36m \u001b[39m\u001b[32mIn[3]\u001b[39m\u001b[32m, line 1\u001b[39m\n\u001b[32m----> \u001b[39m\u001b[32m1\u001b[39m \u001b[43mlista\u001b[49m\u001b[43m \u001b[49m\u001b[43m+\u001b[49m\u001b[32;43m5\u001b[39;49m\n",
      "\u001b[31mTypeError\u001b[39m: can only concatenate list (not \"int\") to list"
     ]
    }
   ],
   "source": [
    "#lista +5"
   ]
  },
  {
   "cell_type": "code",
   "execution_count": null,
   "id": "7f226353",
   "metadata": {},
   "outputs": [],
   "source": []
  },
  {
   "cell_type": "code",
   "execution_count": null,
   "id": "4d57e8ca-25d6-4ca4-ac4f-2f56ac30087f",
   "metadata": {},
   "outputs": [],
   "source": [
    "resultado = []\n",
    "for e in lista:\n",
    "    resultado.append(e+5)\n",
    "resultado"
   ]
  },
  {
   "cell_type": "code",
   "execution_count": null,
   "id": "8a0616e3-0818-4826-9fc1-6b8a8bbee5ac",
   "metadata": {},
   "outputs": [],
   "source": [
    "# Con un for\n",
    "x = np.arange(1,6)\n",
    "lr = []\n",
    "for e in x:\n",
    "    lr.append(e+5)\n",
    "\n",
    "r1 = np.array(lr)\n",
    "x, r1"
   ]
  },
  {
   "cell_type": "code",
   "execution_count": null,
   "id": "8e734b0f-1f11-4ccc-b3f0-655982859dbc",
   "metadata": {},
   "outputs": [],
   "source": [
    "# Broadcasting tensor de 1 dim con escalar\n",
    "a = np.arange(1,11,2)\n",
    "\n",
    "r = a + 5\n",
    "a,r"
   ]
  },
  {
   "cell_type": "code",
   "execution_count": null,
   "id": "11f99959-7f6a-4e80-ba7c-5a468959b163",
   "metadata": {},
   "outputs": [],
   "source": [
    "# Broadcasting tensor de 2 dim con escalar\n",
    "aleatorios = np.random.randint(1,11, (3,4))\n",
    "aleatorios"
   ]
  },
  {
   "cell_type": "code",
   "execution_count": null,
   "id": "66d21083-89ea-47ed-a1f9-25314bc1f1f8",
   "metadata": {},
   "outputs": [],
   "source": [
    "r2 = aleatorios *10\n",
    "r2"
   ]
  },
  {
   "cell_type": "code",
   "execution_count": null,
   "id": "555e9552-9401-479e-85ba-8046476cc83a",
   "metadata": {},
   "outputs": [],
   "source": [
    "# Broadcasting tensor de 3 dim con escalar\n",
    "cubo_unos = np.ones((3,3,3))\n",
    "cubo_unos"
   ]
  },
  {
   "cell_type": "code",
   "execution_count": null,
   "id": "bfb37d71-b793-4126-ae2c-b19d7da934b6",
   "metadata": {},
   "outputs": [],
   "source": [
    "r3 = cubo_unos + 2\n",
    "r3"
   ]
  },
  {
   "cell_type": "code",
   "execution_count": null,
   "id": "eb9c66db-a860-4569-831e-9e80d5176e25",
   "metadata": {},
   "outputs": [],
   "source": [
    "aleatorios, a"
   ]
  },
  {
   "cell_type": "code",
   "execution_count": null,
   "id": "cda7c411-4c37-451f-b0bf-7c50ce801e60",
   "metadata": {},
   "outputs": [],
   "source": [
    "r4 = aleatorios + a\n",
    "r4"
   ]
  },
  {
   "cell_type": "code",
   "execution_count": null,
   "id": "2ca341ec-dfde-42c5-8816-f47c410510a9",
   "metadata": {},
   "outputs": [],
   "source": [
    "c = np.arange(4)\n",
    "aleatorios, c"
   ]
  },
  {
   "cell_type": "code",
   "execution_count": null,
   "id": "efcade50-26c6-4c2a-bed7-a27e463260dd",
   "metadata": {},
   "outputs": [],
   "source": [
    "r5 = aleatorios + c\n",
    "r5, aleatorios, c"
   ]
  },
  {
   "cell_type": "code",
   "execution_count": null,
   "id": "f1d2e74d-5252-41d8-a8b5-d7b5e33495d1",
   "metadata": {},
   "outputs": [],
   "source": [
    "a2 = np.arange(3).reshape((3,1))\n",
    "aleatorios, a2"
   ]
  },
  {
   "cell_type": "code",
   "execution_count": null,
   "id": "9719654e-279d-447c-bd76-97406d3d87b1",
   "metadata": {},
   "outputs": [],
   "source": [
    "r6 = aleatorios + a2\n",
    "r6, aleatorios, a2"
   ]
  },
  {
   "cell_type": "code",
   "execution_count": null,
   "id": "a0daa2ee-d0dd-4e14-b453-7a95dbd3fb65",
   "metadata": {},
   "outputs": [],
   "source": [
    "a2, a"
   ]
  },
  {
   "cell_type": "code",
   "execution_count": null,
   "id": "24965b3a-78c6-4f7d-bdfa-e345ae69d527",
   "metadata": {},
   "outputs": [],
   "source": [
    "a2+a"
   ]
  },
  {
   "cell_type": "code",
   "execution_count": null,
   "id": "8b7fb3b0-dfa5-4d86-96bc-86ea03986853",
   "metadata": {},
   "outputs": [],
   "source": [
    "a+a2"
   ]
  },
  {
   "cell_type": "code",
   "execution_count": null,
   "id": "4f736dab-a3d3-4604-b422-edcd72ebc713",
   "metadata": {},
   "outputs": [],
   "source": [
    "a , c"
   ]
  },
  {
   "cell_type": "code",
   "execution_count": null,
   "id": "70c78d91-3525-4ea2-ac0c-160bc2cf2e6f",
   "metadata": {},
   "outputs": [],
   "source": [
    "a+c"
   ]
  },
  {
   "cell_type": "code",
   "execution_count": null,
   "id": "065f5102-4c97-4939-afd5-b60548124870",
   "metadata": {},
   "outputs": [],
   "source": [
    "a2,c"
   ]
  },
  {
   "cell_type": "code",
   "execution_count": null,
   "id": "4d0c2f83-f312-4a96-8a8a-bd694e3ef0c8",
   "metadata": {},
   "outputs": [],
   "source": [
    "a2+c"
   ]
  },
  {
   "cell_type": "code",
   "execution_count": null,
   "id": "125975dc-e2fb-4bb7-b6c9-eef475e32f50",
   "metadata": {},
   "outputs": [],
   "source": [
    " "
   ]
  }
 ],
 "metadata": {
  "kernelspec": {
   "display_name": "Python 3",
   "language": "python",
   "name": "python3"
  },
  "language_info": {
   "codemirror_mode": {
    "name": "ipython",
    "version": 3
   },
   "file_extension": ".py",
   "mimetype": "text/x-python",
   "name": "python",
   "nbconvert_exporter": "python",
   "pygments_lexer": "ipython3",
   "version": "3.13.3"
  }
 },
 "nbformat": 4,
 "nbformat_minor": 5
}
