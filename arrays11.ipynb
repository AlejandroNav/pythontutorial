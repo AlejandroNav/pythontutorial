{
 "cells": [
  {
   "cell_type": "markdown",
   "id": "cf1f9f5e-407d-46a5-b5fa-7fdecf3ca70d",
   "metadata": {},
   "source": [
    "# Broadcasting"
   ]
  },
  {
   "cell_type": "code",
   "execution_count": 5,
   "id": "6e08ebb6-aebb-4bcc-9c5a-16253d266ef3",
   "metadata": {},
   "outputs": [],
   "source": [
    "import numpy as np"
   ]
  },
  {
   "cell_type": "code",
   "execution_count": 6,
   "id": "958fb702-11a5-4312-b838-dcf42ae16e94",
   "metadata": {},
   "outputs": [
    {
     "data": {
      "text/plain": [
       "[1, 8, 9, 10, 6, 11, 9, 11, 9, 4]"
      ]
     },
     "execution_count": 6,
     "metadata": {},
     "output_type": "execute_result"
    }
   ],
   "source": [
    "import random\n",
    "lista = [random.randint(1,11) for _ in range(10)]\n",
    "lista"
   ]
  },
  {
   "cell_type": "code",
   "execution_count": 7,
   "id": "971ac90f-7024-4f57-8ddb-6dbfdfce9b8c",
   "metadata": {},
   "outputs": [
    {
     "ename": "TypeError",
     "evalue": "can only concatenate list (not \"int\") to list",
     "output_type": "error",
     "traceback": [
      "\u001b[31m---------------------------------------------------------------------------\u001b[39m",
      "\u001b[31mTypeError\u001b[39m                                 Traceback (most recent call last)",
      "\u001b[36mCell\u001b[39m\u001b[36m \u001b[39m\u001b[32mIn[7]\u001b[39m\u001b[32m, line 1\u001b[39m\n\u001b[32m----> \u001b[39m\u001b[32m1\u001b[39m \u001b[43mlista\u001b[49m\u001b[43m \u001b[49m\u001b[43m+\u001b[49m\u001b[32;43m5\u001b[39;49m\n",
      "\u001b[31mTypeError\u001b[39m: can only concatenate list (not \"int\") to list"
     ]
    }
   ],
   "source": [
    "lista +5"
   ]
  },
  {
   "cell_type": "code",
   "execution_count": 8,
   "id": "4d57e8ca-25d6-4ca4-ac4f-2f56ac30087f",
   "metadata": {},
   "outputs": [
    {
     "data": {
      "text/plain": [
       "[6, 13, 14, 15, 11, 16, 14, 16, 14, 9]"
      ]
     },
     "execution_count": 8,
     "metadata": {},
     "output_type": "execute_result"
    }
   ],
   "source": [
    "resultado = []\n",
    "for e in lista:\n",
    "    resultado.append(e+5)\n",
    "resultado"
   ]
  },
  {
   "cell_type": "code",
   "execution_count": 10,
   "id": "8a0616e3-0818-4826-9fc1-6b8a8bbee5ac",
   "metadata": {},
   "outputs": [
    {
     "data": {
      "text/plain": [
       "(array([1, 2, 3, 4, 5]), array([ 6,  7,  8,  9, 10]))"
      ]
     },
     "execution_count": 10,
     "metadata": {},
     "output_type": "execute_result"
    }
   ],
   "source": [
    "# Con un for\n",
    "x = np.arange(1,6)\n",
    "lr = []\n",
    "for e in x:\n",
    "    lr.append(e+5)\n",
    "\n",
    "r1 = np.array(lr)\n",
    "x, r1"
   ]
  },
  {
   "cell_type": "code",
   "execution_count": 9,
   "id": "8e734b0f-1f11-4ccc-b3f0-655982859dbc",
   "metadata": {},
   "outputs": [
    {
     "data": {
      "text/plain": [
       "(array([1, 3, 5, 7, 9]), array([ 6,  8, 10, 12, 14]))"
      ]
     },
     "execution_count": 9,
     "metadata": {},
     "output_type": "execute_result"
    }
   ],
   "source": [
    "# Broadcasting tensor de 1 dim con escalar\n",
    "a = np.arange(1,11,2)\n",
    "\n",
    "r = a + 5\n",
    "a,r"
   ]
  },
  {
   "cell_type": "code",
   "execution_count": 25,
   "id": "11f99959-7f6a-4e80-ba7c-5a468959b163",
   "metadata": {},
   "outputs": [
    {
     "data": {
      "text/plain": [
       "array([[ 8,  4,  9,  2],\n",
       "       [ 9,  8,  1,  9],\n",
       "       [ 6,  9, 10,  6]])"
      ]
     },
     "execution_count": 25,
     "metadata": {},
     "output_type": "execute_result"
    }
   ],
   "source": [
    "# Broadcasting tensor de 2 dim con escalar\n",
    "aleatorios = np.random.randint(1,11, (3,4))\n",
    "aleatorios"
   ]
  },
  {
   "cell_type": "code",
   "execution_count": 26,
   "id": "66d21083-89ea-47ed-a1f9-25314bc1f1f8",
   "metadata": {},
   "outputs": [
    {
     "data": {
      "text/plain": [
       "array([[ 80,  40,  90,  20],\n",
       "       [ 90,  80,  10,  90],\n",
       "       [ 60,  90, 100,  60]])"
      ]
     },
     "execution_count": 26,
     "metadata": {},
     "output_type": "execute_result"
    }
   ],
   "source": [
    "r2 = aleatorios *10\n",
    "r2"
   ]
  },
  {
   "cell_type": "code",
   "execution_count": 27,
   "id": "555e9552-9401-479e-85ba-8046476cc83a",
   "metadata": {},
   "outputs": [
    {
     "data": {
      "text/plain": [
       "array([[[1., 1., 1.],\n",
       "        [1., 1., 1.],\n",
       "        [1., 1., 1.]],\n",
       "\n",
       "       [[1., 1., 1.],\n",
       "        [1., 1., 1.],\n",
       "        [1., 1., 1.]],\n",
       "\n",
       "       [[1., 1., 1.],\n",
       "        [1., 1., 1.],\n",
       "        [1., 1., 1.]]])"
      ]
     },
     "execution_count": 27,
     "metadata": {},
     "output_type": "execute_result"
    }
   ],
   "source": [
    "# Broadcasting tensor de 3 dim con escalar\n",
    "cubo_unos = np.ones((3,3,3))\n",
    "cubo_unos"
   ]
  },
  {
   "cell_type": "code",
   "execution_count": 11,
   "id": "bfb37d71-b793-4126-ae2c-b19d7da934b6",
   "metadata": {},
   "outputs": [
    {
     "data": {
      "text/plain": [
       "array([[[3., 3., 3.],\n",
       "        [3., 3., 3.],\n",
       "        [3., 3., 3.]],\n",
       "\n",
       "       [[3., 3., 3.],\n",
       "        [3., 3., 3.],\n",
       "        [3., 3., 3.]],\n",
       "\n",
       "       [[3., 3., 3.],\n",
       "        [3., 3., 3.],\n",
       "        [3., 3., 3.]]])"
      ]
     },
     "execution_count": 11,
     "metadata": {},
     "output_type": "execute_result"
    }
   ],
   "source": [
    "r3 = cubo_unos + 2\n",
    "r3"
   ]
  },
  {
   "cell_type": "code",
   "execution_count": 28,
   "id": "eb9c66db-a860-4569-831e-9e80d5176e25",
   "metadata": {},
   "outputs": [
    {
     "data": {
      "text/plain": [
       "(array([[ 8,  4,  9,  2],\n",
       "        [ 9,  8,  1,  9],\n",
       "        [ 6,  9, 10,  6]]),\n",
       " array([1, 3, 5, 7, 9]))"
      ]
     },
     "execution_count": 28,
     "metadata": {},
     "output_type": "execute_result"
    }
   ],
   "source": [
    "aleatorios, a"
   ]
  },
  {
   "cell_type": "code",
   "execution_count": 29,
   "id": "cda7c411-4c37-451f-b0bf-7c50ce801e60",
   "metadata": {},
   "outputs": [
    {
     "ename": "ValueError",
     "evalue": "operands could not be broadcast together with shapes (3,4) (5,) ",
     "output_type": "error",
     "traceback": [
      "\u001b[31m---------------------------------------------------------------------------\u001b[39m",
      "\u001b[31mValueError\u001b[39m                                Traceback (most recent call last)",
      "\u001b[36mCell\u001b[39m\u001b[36m \u001b[39m\u001b[32mIn[29]\u001b[39m\u001b[32m, line 1\u001b[39m\n\u001b[32m----> \u001b[39m\u001b[32m1\u001b[39m r4 = \u001b[43maleatorios\u001b[49m\u001b[43m \u001b[49m\u001b[43m+\u001b[49m\u001b[43m \u001b[49m\u001b[43ma\u001b[49m\n\u001b[32m      2\u001b[39m r4\n",
      "\u001b[31mValueError\u001b[39m: operands could not be broadcast together with shapes (3,4) (5,) "
     ]
    }
   ],
   "source": [
    "r4 = aleatorios + a\n",
    "r4"
   ]
  },
  {
   "cell_type": "code",
   "execution_count": 30,
   "id": "2ca341ec-dfde-42c5-8816-f47c410510a9",
   "metadata": {},
   "outputs": [
    {
     "data": {
      "text/plain": [
       "(array([[ 8,  4,  9,  2],\n",
       "        [ 9,  8,  1,  9],\n",
       "        [ 6,  9, 10,  6]]),\n",
       " array([0, 1, 2, 3]))"
      ]
     },
     "execution_count": 30,
     "metadata": {},
     "output_type": "execute_result"
    }
   ],
   "source": [
    "c = np.arange(4)\n",
    "aleatorios, c"
   ]
  },
  {
   "cell_type": "code",
   "execution_count": 31,
   "id": "efcade50-26c6-4c2a-bed7-a27e463260dd",
   "metadata": {},
   "outputs": [
    {
     "data": {
      "text/plain": [
       "(array([[ 8,  5, 11,  5],\n",
       "        [ 9,  9,  3, 12],\n",
       "        [ 6, 10, 12,  9]]),\n",
       " array([[ 8,  4,  9,  2],\n",
       "        [ 9,  8,  1,  9],\n",
       "        [ 6,  9, 10,  6]]),\n",
       " array([0, 1, 2, 3]))"
      ]
     },
     "execution_count": 31,
     "metadata": {},
     "output_type": "execute_result"
    }
   ],
   "source": [
    "r5 = aleatorios + c\n",
    "r5, aleatorios, c"
   ]
  },
  {
   "cell_type": "code",
   "execution_count": 35,
   "id": "f1d2e74d-5252-41d8-a8b5-d7b5e33495d1",
   "metadata": {},
   "outputs": [
    {
     "data": {
      "text/plain": [
       "(array([[ 8,  4,  9,  2],\n",
       "        [ 9,  8,  1,  9],\n",
       "        [ 6,  9, 10,  6]]),\n",
       " array([[0],\n",
       "        [1],\n",
       "        [2]]))"
      ]
     },
     "execution_count": 35,
     "metadata": {},
     "output_type": "execute_result"
    }
   ],
   "source": [
    "a2 = np.arange(3).reshape((3,1))\n",
    "aleatorios, a2"
   ]
  },
  {
   "cell_type": "code",
   "execution_count": 36,
   "id": "9719654e-279d-447c-bd76-97406d3d87b1",
   "metadata": {},
   "outputs": [
    {
     "data": {
      "text/plain": [
       "(array([[ 8,  4,  9,  2],\n",
       "        [10,  9,  2, 10],\n",
       "        [ 8, 11, 12,  8]]),\n",
       " array([[ 8,  4,  9,  2],\n",
       "        [ 9,  8,  1,  9],\n",
       "        [ 6,  9, 10,  6]]),\n",
       " array([[0],\n",
       "        [1],\n",
       "        [2]]))"
      ]
     },
     "execution_count": 36,
     "metadata": {},
     "output_type": "execute_result"
    }
   ],
   "source": [
    "r6 = aleatorios + a2\n",
    "r6, aleatorios, a2"
   ]
  },
  {
   "cell_type": "code",
   "execution_count": 37,
   "id": "a0daa2ee-d0dd-4e14-b453-7a95dbd3fb65",
   "metadata": {},
   "outputs": [
    {
     "data": {
      "text/plain": [
       "(array([[0],\n",
       "        [1],\n",
       "        [2]]),\n",
       " array([1, 3, 5, 7, 9]))"
      ]
     },
     "execution_count": 37,
     "metadata": {},
     "output_type": "execute_result"
    }
   ],
   "source": [
    "a2, a"
   ]
  },
  {
   "cell_type": "code",
   "execution_count": 38,
   "id": "24965b3a-78c6-4f7d-bdfa-e345ae69d527",
   "metadata": {},
   "outputs": [
    {
     "data": {
      "text/plain": [
       "array([[ 1,  3,  5,  7,  9],\n",
       "       [ 2,  4,  6,  8, 10],\n",
       "       [ 3,  5,  7,  9, 11]])"
      ]
     },
     "execution_count": 38,
     "metadata": {},
     "output_type": "execute_result"
    }
   ],
   "source": [
    "a2+a"
   ]
  },
  {
   "cell_type": "code",
   "execution_count": 22,
   "id": "8b7fb3b0-dfa5-4d86-96bc-86ea03986853",
   "metadata": {},
   "outputs": [
    {
     "data": {
      "text/plain": [
       "array([[0, 1, 2],\n",
       "       [1, 2, 3],\n",
       "       [2, 3, 4]])"
      ]
     },
     "execution_count": 22,
     "metadata": {},
     "output_type": "execute_result"
    }
   ],
   "source": [
    "a+a2"
   ]
  },
  {
   "cell_type": "code",
   "execution_count": 23,
   "id": "4f736dab-a3d3-4604-b422-edcd72ebc713",
   "metadata": {},
   "outputs": [
    {
     "data": {
      "text/plain": [
       "(array([0, 1, 2]), array([0, 1, 2, 3]))"
      ]
     },
     "execution_count": 23,
     "metadata": {},
     "output_type": "execute_result"
    }
   ],
   "source": [
    "a , c"
   ]
  },
  {
   "cell_type": "code",
   "execution_count": 24,
   "id": "70c78d91-3525-4ea2-ac0c-160bc2cf2e6f",
   "metadata": {},
   "outputs": [
    {
     "ename": "ValueError",
     "evalue": "operands could not be broadcast together with shapes (3,) (4,) ",
     "output_type": "error",
     "traceback": [
      "\u001b[1;31m---------------------------------------------------------------------------\u001b[0m",
      "\u001b[1;31mValueError\u001b[0m                                Traceback (most recent call last)",
      "Cell \u001b[1;32mIn[24], line 1\u001b[0m\n\u001b[1;32m----> 1\u001b[0m \u001b[43ma\u001b[49m\u001b[38;5;241;43m+\u001b[39;49m\u001b[43mc\u001b[49m\n",
      "\u001b[1;31mValueError\u001b[0m: operands could not be broadcast together with shapes (3,) (4,) "
     ]
    }
   ],
   "source": [
    "a+c"
   ]
  },
  {
   "cell_type": "code",
   "execution_count": 25,
   "id": "065f5102-4c97-4939-afd5-b60548124870",
   "metadata": {},
   "outputs": [
    {
     "data": {
      "text/plain": [
       "(array([[0],\n",
       "        [1],\n",
       "        [2]]),\n",
       " array([0, 1, 2, 3]))"
      ]
     },
     "execution_count": 25,
     "metadata": {},
     "output_type": "execute_result"
    }
   ],
   "source": [
    "a2,c"
   ]
  },
  {
   "cell_type": "code",
   "execution_count": 26,
   "id": "4d0c2f83-f312-4a96-8a8a-bd694e3ef0c8",
   "metadata": {},
   "outputs": [
    {
     "data": {
      "text/plain": [
       "array([[0, 1, 2, 3],\n",
       "       [1, 2, 3, 4],\n",
       "       [2, 3, 4, 5]])"
      ]
     },
     "execution_count": 26,
     "metadata": {},
     "output_type": "execute_result"
    }
   ],
   "source": [
    "a2+c"
   ]
  },
  {
   "cell_type": "code",
   "execution_count": null,
   "id": "125975dc-e2fb-4bb7-b6c9-eef475e32f50",
   "metadata": {},
   "outputs": [],
   "source": [
    " "
   ]
  }
 ],
 "metadata": {
  "kernelspec": {
   "display_name": "Python 3 (ipykernel)",
   "language": "python",
   "name": "python3"
  },
  "language_info": {
   "codemirror_mode": {
    "name": "ipython",
    "version": 3
   },
   "file_extension": ".py",
   "mimetype": "text/x-python",
   "name": "python",
   "nbconvert_exporter": "python",
   "pygments_lexer": "ipython3",
   "version": "3.13.2"
  }
 },
 "nbformat": 4,
 "nbformat_minor": 5
}
