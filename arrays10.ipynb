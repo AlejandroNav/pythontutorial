{
 "cells": [
  {
   "cell_type": "markdown",
   "id": "33f081dd-4e7d-4dcb-9029-c635786dc072",
   "metadata": {},
   "source": [
    "# Funciones con cadenas"
   ]
  },
  {
   "cell_type": "code",
   "execution_count": 1,
   "id": "b7167936-3378-4906-99e8-2791904b1d76",
   "metadata": {},
   "outputs": [],
   "source": [
    "import numpy as np"
   ]
  },
  {
   "cell_type": "code",
   "execution_count": 2,
   "id": "6b425997-238b-4526-bd71-2962a6e24e31",
   "metadata": {},
   "outputs": [
    {
     "data": {
      "text/plain": [
       "array(['HOLA', 'MUNDO', '!\"#45F', 'ESTO es  Otra cadenA'], dtype='<U20')"
      ]
     },
     "execution_count": 2,
     "metadata": {},
     "output_type": "execute_result"
    }
   ],
   "source": [
    "cadenas = np.array(['HOLA', 'MUNDO', '!\"#45F', 'ESTO es  Otra cadenA'])\n",
    "cadenas"
   ]
  },
  {
   "cell_type": "code",
   "execution_count": 3,
   "id": "6882ef20-362e-4db5-b50b-07ffac9baf13",
   "metadata": {},
   "outputs": [
    {
     "data": {
      "text/plain": [
       "array(['hola', 'mundo', '!\"#45f', 'esto es  otra cadena'], dtype='<U20')"
      ]
     },
     "execution_count": 3,
     "metadata": {},
     "output_type": "execute_result"
    }
   ],
   "source": [
    "minusculas = np.char.lower(cadenas)\n",
    "minusculas"
   ]
  },
  {
   "cell_type": "code",
   "execution_count": 4,
   "id": "01298fc4-68a5-4dcd-ab0b-a41533031cf4",
   "metadata": {},
   "outputs": [
    {
     "data": {
      "text/plain": [
       "array(['HOLA', 'MUNDO', '!\"#45F', 'ESTO ES  OTRA CADENA'], dtype='<U20')"
      ]
     },
     "execution_count": 4,
     "metadata": {},
     "output_type": "execute_result"
    }
   ],
   "source": [
    "mayusculas = np.char.upper(minusculas)\n",
    "mayusculas"
   ]
  },
  {
   "cell_type": "code",
   "execution_count": 5,
   "id": "8d19ef48-8a5f-4fb9-b4e3-41332c40a5ae",
   "metadata": {},
   "outputs": [
    {
     "data": {
      "text/plain": [
       "array(['Hola', 'Mundo', '!\"#45f', 'Esto es  otra cadena'], dtype='<U20')"
      ]
     },
     "execution_count": 5,
     "metadata": {},
     "output_type": "execute_result"
    }
   ],
   "source": [
    "primera_mayuscula = np.char.capitalize(minusculas)\n",
    "primera_mayuscula"
   ]
  },
  {
   "cell_type": "code",
   "execution_count": 6,
   "id": "548a63c4-e787-48b2-83fa-ad8964c0d981",
   "metadata": {},
   "outputs": [
    {
     "data": {
      "text/plain": [
       "array(list(['Three', 'Rings', 'for', 'the', 'Elven-kings', 'under', 'the', 'sky,']),\n",
       "      dtype=object)"
      ]
     },
     "execution_count": 6,
     "metadata": {},
     "output_type": "execute_result"
    }
   ],
   "source": [
    "texto = \"Three Rings for the Elven-kings under the sky,\"\n",
    "cadenas2 = np.array(np.char.split(texto))\n",
    "cadenas2"
   ]
  },
  {
   "cell_type": "code",
   "execution_count": 7,
   "id": "d59e3239-48f2-4b41-bb5f-de88bc95131f",
   "metadata": {},
   "outputs": [
    {
     "data": {
      "text/plain": [
       "array(list(['Three', 'Rings', 'for', 'the', 'Elven', 'kings', 'under', 'the', 'sky,']),\n",
       "      dtype=object)"
      ]
     },
     "execution_count": 7,
     "metadata": {},
     "output_type": "execute_result"
    }
   ],
   "source": [
    "texto2 = \"Three-Rings-for-the-Elven-kings-under-the-sky,\"\n",
    "cadenas3 = np.array(np.char.split(texto2, sep='-'))\n",
    "cadenas3"
   ]
  },
  {
   "cell_type": "code",
   "execution_count": 8,
   "id": "9f9a0d51-cac6-4ded-be98-472f36f8ef14",
   "metadata": {},
   "outputs": [
    {
     "data": {
      "text/plain": [
       "np.str_('Hola Mindo!')"
      ]
     },
     "execution_count": 8,
     "metadata": {},
     "output_type": "execute_result"
    }
   ],
   "source": [
    "texto3 = \"     Hola Mindo!    \"\n",
    "np.char.strip(texto3)"
   ]
  },
  {
   "cell_type": "markdown",
   "id": "50adcc61",
   "metadata": {},
   "source": []
  },
  {
   "cell_type": "code",
   "execution_count": 9,
   "id": "508f4d50-8726-4963-906d-c2b171af02b2",
   "metadata": {},
   "outputs": [
    {
     "data": {
      "text/plain": [
       "np.str_('Hola Mindo!    ')"
      ]
     },
     "execution_count": 9,
     "metadata": {},
     "output_type": "execute_result"
    }
   ],
   "source": [
    "np.char.lstrip(texto3)"
   ]
  },
  {
   "cell_type": "code",
   "execution_count": 10,
   "id": "2ffba20e-52b1-446a-95bb-4651376ca36a",
   "metadata": {},
   "outputs": [
    {
     "data": {
      "text/plain": [
       "np.str_('     Hola Mindo!')"
      ]
     },
     "execution_count": 10,
     "metadata": {},
     "output_type": "execute_result"
    }
   ],
   "source": [
    "np.char.rstrip(texto3)"
   ]
  },
  {
   "cell_type": "code",
   "execution_count": null,
   "id": "8c54c3c9-dfaf-4c54-bc98-e159c02a9a53",
   "metadata": {},
   "outputs": [
    {
     "data": {
      "text/plain": [
       "array(['holaquetal', '  mundo   ', '    -4    ', '  3.4567  '],\n",
       "      dtype='<U10')"
      ]
     },
     "execution_count": 25,
     "metadata": {},
     "output_type": "execute_result"
    }
   ],
   "source": [
    "texto4 = np.array([\"holaquetal\", 'mundo', 'a', 3.4567])\n",
    "np.char.center(texto4, 10)\n",
    "# is numeric solo regresa true para numeros enteros positivos"
   ]
  },
  {
   "cell_type": "code",
   "execution_count": null,
   "id": "3c1ba9bb-4388-4f19-99f2-d3f983131479",
   "metadata": {},
   "outputs": [
    {
     "data": {
      "text/plain": [
       "array([False, False,  True,  True])"
      ]
     },
     "execution_count": 29,
     "metadata": {},
     "output_type": "execute_result"
    }
   ],
   "source": [
    "texto5 = np.array([\"holaquetal\", 'mundo', 4, '3'])\n",
    "np.char.isnumeric(texto5)\n",
    "# is numeric solo regresa true para numeros enteros positivos \n",
    "# sin importar el tipo de dato funciona para int y char"
   ]
  },
  {
   "cell_type": "code",
   "execution_count": null,
   "id": "ca5537cc-994d-493b-a866-84b40b5d8134",
   "metadata": {},
   "outputs": [],
   "source": []
  },
  {
   "cell_type": "code",
   "execution_count": null,
   "id": "2d698297",
   "metadata": {},
   "outputs": [],
   "source": []
  }
 ],
 "metadata": {
  "kernelspec": {
   "display_name": "Python 3",
   "language": "python",
   "name": "python3"
  },
  "language_info": {
   "codemirror_mode": {
    "name": "ipython",
    "version": 3
   },
   "file_extension": ".py",
   "mimetype": "text/x-python",
   "name": "python",
   "nbconvert_exporter": "python",
   "pygments_lexer": "ipython3",
   "version": "3.13.3"
  }
 },
 "nbformat": 4,
 "nbformat_minor": 5
}
